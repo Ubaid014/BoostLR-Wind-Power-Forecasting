{
 "cells": [
  {
   "cell_type": "code",
   "execution_count": 1,
   "metadata": {},
   "outputs": [],
   "source": [
    "from xgboost import XGBRegressor\n",
    "import numpy as np\n",
    "import pandas as pd\n",
    "from sklearn.model_selection import train_test_split\n",
    "from sklearn.preprocessing import MinMaxScaler"
   ]
  },
  {
   "cell_type": "code",
   "execution_count": 2,
   "metadata": {},
   "outputs": [
    {
     "data": {
      "text/html": [
       "<div>\n",
       "<style scoped>\n",
       "    .dataframe tbody tr th:only-of-type {\n",
       "        vertical-align: middle;\n",
       "    }\n",
       "\n",
       "    .dataframe tbody tr th {\n",
       "        vertical-align: top;\n",
       "    }\n",
       "\n",
       "    .dataframe thead th {\n",
       "        text-align: right;\n",
       "    }\n",
       "</style>\n",
       "<table border=\"1\" class=\"dataframe\">\n",
       "  <thead>\n",
       "    <tr style=\"text-align: right;\">\n",
       "      <th></th>\n",
       "      <th>time stamp</th>\n",
       "      <th>Bruska_wind speed</th>\n",
       "      <th>Bruska_wind direction</th>\n",
       "      <th>Bruska_air density</th>\n",
       "      <th>Zelengrad_wind speed</th>\n",
       "      <th>Zelengrad_wind direction</th>\n",
       "      <th>Zelengrad_air density</th>\n",
       "      <th>Bruska_active power output</th>\n",
       "      <th>Bruska_normally operating number</th>\n",
       "    </tr>\n",
       "  </thead>\n",
       "  <tbody>\n",
       "    <tr>\n",
       "      <th>0</th>\n",
       "      <td>2018-01-01 00:00:00</td>\n",
       "      <td>9.363334</td>\n",
       "      <td>172.79999</td>\n",
       "      <td>1.210</td>\n",
       "      <td>10.635238</td>\n",
       "      <td>165.28897</td>\n",
       "      <td>1.207</td>\n",
       "      <td>21.608133</td>\n",
       "      <td>14.0</td>\n",
       "    </tr>\n",
       "    <tr>\n",
       "      <th>1</th>\n",
       "      <td>2018-01-01 01:00:00</td>\n",
       "      <td>9.266666</td>\n",
       "      <td>174.99990</td>\n",
       "      <td>1.210</td>\n",
       "      <td>10.261664</td>\n",
       "      <td>166.09566</td>\n",
       "      <td>1.207</td>\n",
       "      <td>21.050860</td>\n",
       "      <td>14.0</td>\n",
       "    </tr>\n",
       "    <tr>\n",
       "      <th>2</th>\n",
       "      <td>2018-01-01 02:00:00</td>\n",
       "      <td>9.586667</td>\n",
       "      <td>174.19984</td>\n",
       "      <td>1.209</td>\n",
       "      <td>13.286666</td>\n",
       "      <td>161.92586</td>\n",
       "      <td>1.207</td>\n",
       "      <td>21.257930</td>\n",
       "      <td>14.0</td>\n",
       "    </tr>\n",
       "    <tr>\n",
       "      <th>3</th>\n",
       "      <td>2018-01-01 03:00:00</td>\n",
       "      <td>9.320000</td>\n",
       "      <td>167.53835</td>\n",
       "      <td>1.208</td>\n",
       "      <td>14.777143</td>\n",
       "      <td>159.17044</td>\n",
       "      <td>1.206</td>\n",
       "      <td>20.700977</td>\n",
       "      <td>14.0</td>\n",
       "    </tr>\n",
       "    <tr>\n",
       "      <th>4</th>\n",
       "      <td>2018-01-01 04:00:00</td>\n",
       "      <td>9.267742</td>\n",
       "      <td>160.91630</td>\n",
       "      <td>1.207</td>\n",
       "      <td>11.447466</td>\n",
       "      <td>151.64941</td>\n",
       "      <td>1.205</td>\n",
       "      <td>20.331597</td>\n",
       "      <td>14.0</td>\n",
       "    </tr>\n",
       "  </tbody>\n",
       "</table>\n",
       "</div>"
      ],
      "text/plain": [
       "            time stamp  Bruska_wind speed  Bruska_wind direction  \\\n",
       "0  2018-01-01 00:00:00           9.363334              172.79999   \n",
       "1  2018-01-01 01:00:00           9.266666              174.99990   \n",
       "2  2018-01-01 02:00:00           9.586667              174.19984   \n",
       "3  2018-01-01 03:00:00           9.320000              167.53835   \n",
       "4  2018-01-01 04:00:00           9.267742              160.91630   \n",
       "\n",
       "   Bruska_air density  Zelengrad_wind speed  Zelengrad_wind direction  \\\n",
       "0               1.210             10.635238                 165.28897   \n",
       "1               1.210             10.261664                 166.09566   \n",
       "2               1.209             13.286666                 161.92586   \n",
       "3               1.208             14.777143                 159.17044   \n",
       "4               1.207             11.447466                 151.64941   \n",
       "\n",
       "   Zelengrad_air density  Bruska_active power output  \\\n",
       "0                  1.207                   21.608133   \n",
       "1                  1.207                   21.050860   \n",
       "2                  1.207                   21.257930   \n",
       "3                  1.206                   20.700977   \n",
       "4                  1.205                   20.331597   \n",
       "\n",
       "   Bruska_normally operating number  \n",
       "0                              14.0  \n",
       "1                              14.0  \n",
       "2                              14.0  \n",
       "3                              14.0  \n",
       "4                              14.0  "
      ]
     },
     "execution_count": 2,
     "metadata": {},
     "output_type": "execute_result"
    }
   ],
   "source": [
    "df=pd.read_csv(\"Bruska_data.csv\")\n",
    "df.head()"
   ]
  },
  {
   "cell_type": "code",
   "execution_count": 3,
   "metadata": {},
   "outputs": [
    {
     "data": {
      "text/plain": [
       "(17352, 9)"
      ]
     },
     "execution_count": 3,
     "metadata": {},
     "output_type": "execute_result"
    }
   ],
   "source": [
    "df.shape"
   ]
  },
  {
   "cell_type": "code",
   "execution_count": 4,
   "metadata": {},
   "outputs": [
    {
     "data": {
      "text/plain": [
       "time stamp                            0\n",
       "Bruska_wind speed                     0\n",
       "Bruska_wind direction                 0\n",
       "Bruska_air density                    0\n",
       "Zelengrad_wind speed                  0\n",
       "Zelengrad_wind direction              0\n",
       "Zelengrad_air density                 0\n",
       "Bruska_active power output          163\n",
       "Bruska_normally operating number    163\n",
       "dtype: int64"
      ]
     },
     "execution_count": 4,
     "metadata": {},
     "output_type": "execute_result"
    }
   ],
   "source": [
    "df.isnull().sum()"
   ]
  },
  {
   "cell_type": "code",
   "execution_count": 5,
   "metadata": {},
   "outputs": [],
   "source": [
    "df.dropna(inplace=True)"
   ]
  },
  {
   "cell_type": "code",
   "execution_count": 6,
   "metadata": {},
   "outputs": [],
   "source": [
    "df.drop(['time stamp'], axis = 1, inplace = True) "
   ]
  },
  {
   "cell_type": "code",
   "execution_count": 7,
   "metadata": {},
   "outputs": [],
   "source": [
    "df.drop(['Bruska_normally operating number'], axis = 1, inplace = True)"
   ]
  },
  {
   "cell_type": "code",
   "execution_count": 8,
   "metadata": {},
   "outputs": [],
   "source": [
    "s1= MinMaxScaler(feature_range=(0,1))\n",
    "X= s1.fit_transform(df)"
   ]
  },
  {
   "cell_type": "code",
   "execution_count": 9,
   "metadata": {},
   "outputs": [],
   "source": [
    "s2=MinMaxScaler(feature_range=(0,1))\n",
    "y= s2.fit_transform(df[['Bruska_active power output']])"
   ]
  },
  {
   "cell_type": "code",
   "execution_count": 10,
   "metadata": {},
   "outputs": [],
   "source": [
    "X_train, X_test, y_train, y_test = train_test_split(X, y, test_size = 0.2,random_state=42,shuffle=False)"
   ]
  },
  {
   "cell_type": "code",
   "execution_count": 11,
   "metadata": {},
   "outputs": [
    {
     "name": "stdout",
     "output_type": "stream",
     "text": [
      "convergence time: 5.295178651809692\n"
     ]
    }
   ],
   "source": [
    "model=XGBRegressor(tree_method='approx',n_estimators=300,max_depth=9,learning_rate=0.1,colsample_bytree=0.9)\n",
    "import time\n",
    "start=time.time()\n",
    "model.fit(X_train,y_train)\n",
    "end=time.time()\n",
    "continential= end-start\n",
    "print(\"convergence time:\",continential)"
   ]
  },
  {
   "cell_type": "code",
   "execution_count": 12,
   "metadata": {},
   "outputs": [
    {
     "name": "stdout",
     "output_type": "stream",
     "text": [
      "inference time: 0.033586978912353516\n"
     ]
    },
    {
     "data": {
      "text/plain": [
       "array([ 1.1868860e-03,  1.5589096e-07, -5.4866075e-07, ...,\n",
       "        3.0297473e-02,  4.7964178e-02,  5.2602603e-03], dtype=float32)"
      ]
     },
     "execution_count": 12,
     "metadata": {},
     "output_type": "execute_result"
    }
   ],
   "source": [
    "start=time.time()\n",
    "pred = model.predict(X_test)\n",
    "end=time.time()\n",
    "continential=end-start\n",
    "print(\"inference time:\",continential)\n",
    "pred\n",
    "\n"
   ]
  },
  {
   "cell_type": "code",
   "execution_count": 13,
   "metadata": {},
   "outputs": [
    {
     "data": {
      "text/plain": [
       "(3438,)"
      ]
     },
     "execution_count": 13,
     "metadata": {},
     "output_type": "execute_result"
    }
   ],
   "source": [
    "pred.shape"
   ]
  },
  {
   "cell_type": "code",
   "execution_count": 14,
   "metadata": {},
   "outputs": [],
   "source": [
    "prediction = pred.reshape(pred.shape[0], 1)"
   ]
  },
  {
   "cell_type": "code",
   "execution_count": 15,
   "metadata": {},
   "outputs": [
    {
     "data": {
      "text/plain": [
       "(3438, 1)"
      ]
     },
     "execution_count": 15,
     "metadata": {},
     "output_type": "execute_result"
    }
   ],
   "source": [
    "prediction.shape"
   ]
  },
  {
   "cell_type": "code",
   "execution_count": 16,
   "metadata": {},
   "outputs": [],
   "source": [
    "Pred= s2.inverse_transform(prediction)"
   ]
  },
  {
   "cell_type": "code",
   "execution_count": 17,
   "metadata": {},
   "outputs": [],
   "source": [
    "Actual= s2.inverse_transform(y_test)"
   ]
  },
  {
   "cell_type": "code",
   "execution_count": 18,
   "metadata": {},
   "outputs": [],
   "source": [
    "x=Pred\n",
    "z= Actual"
   ]
  },
  {
   "cell_type": "code",
   "execution_count": 19,
   "metadata": {},
   "outputs": [
    {
     "name": "stdout",
     "output_type": "stream",
     "text": [
      "Root Mean Square Error: 0.27144176969235817\n",
      "Mean Square Error: 0.0736806343337192\n",
      "Mean Absolute Error: 0.09526581029463196\n",
      "Mean Absolute Percentage Error: 4506451986014.038\n"
     ]
    }
   ],
   "source": [
    "from sklearn.metrics import mean_squared_error\n",
    "import math\n",
    "\n",
    " \n",
    "MSE = mean_squared_error(z,x)\n",
    " \n",
    "RMSE = math.sqrt(MSE)\n",
    "from sklearn.metrics import mean_absolute_error\n",
    "MAE=mean_absolute_error(z,x)\n",
    "MAE\n",
    "from sklearn.metrics import mean_absolute_percentage_error\n",
    "MAPE=mean_absolute_percentage_error(z,x)\n",
    "MAPE\n",
    "\n",
    "print(\"Root Mean Square Error:\",RMSE)\n",
    "print(\"Mean Square Error:\", MSE)\n",
    "print(\"Mean Absolute Error:\",MAE)\n",
    "print(\"Mean Absolute Percentage Error:\",MAPE)"
   ]
  },
  {
   "cell_type": "code",
   "execution_count": 20,
   "metadata": {},
   "outputs": [
    {
     "data": {
      "text/plain": [
       "35.840973"
      ]
     },
     "execution_count": 20,
     "metadata": {},
     "output_type": "execute_result"
    }
   ],
   "source": [
    "max= x.max()\n",
    "max"
   ]
  },
  {
   "cell_type": "code",
   "execution_count": 21,
   "metadata": {},
   "outputs": [
    {
     "data": {
      "text/plain": [
       "-0.27086982"
      ]
     },
     "execution_count": 21,
     "metadata": {},
     "output_type": "execute_result"
    }
   ],
   "source": [
    "min=x.min()\n",
    "min"
   ]
  },
  {
   "cell_type": "code",
   "execution_count": 22,
   "metadata": {},
   "outputs": [
    {
     "name": "stdout",
     "output_type": "stream",
     "text": [
      "Normalized Root Mean Square Error: 0.7516696638054574\n"
     ]
    }
   ],
   "source": [
    "NRMSE= (RMSE/(max-min))*100\n",
    "print(\"Normalized Root Mean Square Error:\",NRMSE)"
   ]
  },
  {
   "cell_type": "code",
   "execution_count": 23,
   "metadata": {},
   "outputs": [],
   "source": [
    "Calculated =pd.DataFrame(Pred, columns = ['Prediction'])"
   ]
  },
  {
   "cell_type": "code",
   "execution_count": 24,
   "metadata": {},
   "outputs": [],
   "source": [
    "Actual=pd.DataFrame(Actual, columns=[\"Actual\"])"
   ]
  },
  {
   "cell_type": "code",
   "execution_count": 25,
   "metadata": {},
   "outputs": [],
   "source": [
    "combined_df = pd.concat([Calculated, Actual], axis=1)"
   ]
  },
  {
   "cell_type": "code",
   "execution_count": 26,
   "metadata": {},
   "outputs": [],
   "source": [
    "combined_df.to_csv(r'C:\\Users\\sunrise\\Desktop\\Wind speed forecasting\\Bruska\\XgBoost\\XgBoost_prediction.csv', index = False)"
   ]
  }
 ],
 "metadata": {
  "kernelspec": {
   "display_name": "Python 3.10.7 64-bit",
   "language": "python",
   "name": "python3"
  },
  "language_info": {
   "codemirror_mode": {
    "name": "ipython",
    "version": 3
   },
   "file_extension": ".py",
   "mimetype": "text/x-python",
   "name": "python",
   "nbconvert_exporter": "python",
   "pygments_lexer": "ipython3",
   "version": "3.10.9"
  },
  "orig_nbformat": 4,
  "vscode": {
   "interpreter": {
    "hash": "ac4210170004fc925580c073d42b7c18005567bca7a1d143f4e4d5a93e6c63c2"
   }
  }
 },
 "nbformat": 4,
 "nbformat_minor": 2
}
