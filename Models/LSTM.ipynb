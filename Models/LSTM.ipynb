{
 "cells": [
  {
   "cell_type": "markdown",
   "metadata": {},
   "source": [
    "# LSTM Network"
   ]
  },
  {
   "cell_type": "code",
   "execution_count": 1,
   "metadata": {},
   "outputs": [],
   "source": [
    "import tensorflow as tf\n",
    "from tensorflow import keras\n",
    "from tensorflow.keras import Sequential, layers, callbacks\n",
    "from tensorflow.keras.layers import Dense, LSTM, Dropout, GRU\n",
    "import pandas as pd\n",
    "import numpy as np\n",
    "from sklearn.preprocessing import MinMaxScaler\n",
    "from sklearn.model_selection import train_test_split\n",
    "from tensorflow.keras.layers import Flatten\n",
    "from tensorflow.keras.optimizers import Adam\n",
    "from tensorflow.keras.optimizers import Adam\n",
    "\n"
   ]
  },
  {
   "cell_type": "code",
   "execution_count": 2,
   "metadata": {},
   "outputs": [
    {
     "name": "stdout",
     "output_type": "stream",
     "text": [
      "            time stamp  Bruska_wind speed  Bruska_wind direction  \\\n",
      "0  2018-01-01 00:00:00           9.363334              172.79999   \n",
      "1  2018-01-01 01:00:00           9.266666              174.99990   \n",
      "2  2018-01-01 02:00:00           9.586667              174.19984   \n",
      "3  2018-01-01 03:00:00           9.320000              167.53835   \n",
      "4  2018-01-01 04:00:00           9.267742              160.91630   \n",
      "\n",
      "   Bruska_air density  Zelengrad_wind speed  Zelengrad_wind direction  \\\n",
      "0               1.210             10.635238                 165.28897   \n",
      "1               1.210             10.261664                 166.09566   \n",
      "2               1.209             13.286666                 161.92586   \n",
      "3               1.208             14.777143                 159.17044   \n",
      "4               1.207             11.447466                 151.64941   \n",
      "\n",
      "   Zelengrad_air density  Bruska_active power output  \\\n",
      "0                  1.207                   21.608133   \n",
      "1                  1.207                   21.050860   \n",
      "2                  1.207                   21.257930   \n",
      "3                  1.206                   20.700977   \n",
      "4                  1.205                   20.331597   \n",
      "\n",
      "   Bruska_normally operating number  \n",
      "0                              14.0  \n",
      "1                              14.0  \n",
      "2                              14.0  \n",
      "3                              14.0  \n",
      "4                              14.0  \n",
      "time stamp                            0\n",
      "Bruska_wind speed                     0\n",
      "Bruska_wind direction                 0\n",
      "Bruska_air density                    0\n",
      "Zelengrad_wind speed                  0\n",
      "Zelengrad_wind direction              0\n",
      "Zelengrad_air density                 0\n",
      "Bruska_active power output          163\n",
      "Bruska_normally operating number    163\n",
      "dtype: int64\n"
     ]
    }
   ],
   "source": [
    "df=pd.read_csv('Bruska_data.csv')\n",
    "print(df.head())\n",
    "print(df.isnull().sum())"
   ]
  },
  {
   "cell_type": "code",
   "execution_count": 3,
   "metadata": {},
   "outputs": [],
   "source": [
    "df.dropna(inplace=True)"
   ]
  },
  {
   "cell_type": "code",
   "execution_count": 4,
   "metadata": {},
   "outputs": [],
   "source": [
    "df.drop([\"time stamp\"],axis=1,inplace=True)"
   ]
  },
  {
   "cell_type": "code",
   "execution_count": 5,
   "metadata": {},
   "outputs": [],
   "source": [
    "df.drop([\"Bruska_normally operating number\"],axis=1,inplace=True)"
   ]
  },
  {
   "cell_type": "code",
   "execution_count": null,
   "metadata": {},
   "outputs": [],
   "source": []
  },
  {
   "cell_type": "code",
   "execution_count": 6,
   "metadata": {},
   "outputs": [],
   "source": [
    "s1= MinMaxScaler(feature_range=(0,1))\n",
    "X= s1.fit_transform(df)\n",
    "s2=MinMaxScaler(feature_range=(0,1))\n",
    "y= s2.fit_transform(df[['Bruska_active power output']])"
   ]
  },
  {
   "cell_type": "code",
   "execution_count": 7,
   "metadata": {},
   "outputs": [
    {
     "name": "stdout",
     "output_type": "stream",
     "text": [
      "Train set shape (13751, 7)\n",
      "testing set shape (3438, 7)\n"
     ]
    }
   ],
   "source": [
    "X_train1, X_test1, Y_train, Ytest = train_test_split(X, y, test_size=0.2, random_state=42,shuffle=False)\n",
    "print('Train set shape', X_train1.shape)\n",
    "print('testing set shape', X_test1.shape)"
   ]
  },
  {
   "cell_type": "code",
   "execution_count": 8,
   "metadata": {},
   "outputs": [
    {
     "name": "stdout",
     "output_type": "stream",
     "text": [
      "Train set shape (13751, 7, 1)\n",
      "Testing set shape (3438, 7, 1)\n"
     ]
    }
   ],
   "source": [
    "X_train1=np.reshape(X_train1,(13751,7,1))\n",
    "X_test1=np.reshape(X_test1,(3438,7,1))\n",
    "print('Train set shape', X_train1.shape)\n",
    "print('Testing set shape', X_test1.shape)"
   ]
  },
  {
   "cell_type": "code",
   "execution_count": 9,
   "metadata": {},
   "outputs": [],
   "source": [
    "model = tf.keras.Sequential([\n",
    "    tf.keras.layers.LSTM(units=32, return_sequences=True,input_shape=(X_train1.shape[1], X_train1.shape[2])),\n",
    "\n",
    "    tf.keras.layers.Flatten(),\n",
    "\n",
    "    tf.keras.layers.Dropout(0.3),\n",
    "    tf.keras.layers.Dense(units=1, activation='linear', name='output_layer')\n",
    "])\n",
    "optimizer = tf.keras.optimizers.Adam(learning_rate=0.01)\n",
    "model.compile(optimizer=optimizer, loss='mean_absolute_error')"
   ]
  },
  {
   "cell_type": "code",
   "execution_count": 10,
   "metadata": {},
   "outputs": [
    {
     "name": "stdout",
     "output_type": "stream",
     "text": [
      "Epoch 1/100\n",
      "430/430 [==============================] - 5s 6ms/step - loss: 0.0601\n",
      "Epoch 2/100\n",
      "430/430 [==============================] - 2s 6ms/step - loss: 0.0327\n",
      "Epoch 3/100\n",
      "430/430 [==============================] - 2s 6ms/step - loss: 0.0306\n",
      "Epoch 4/100\n",
      "430/430 [==============================] - 2s 6ms/step - loss: 0.0294\n",
      "Epoch 5/100\n",
      "430/430 [==============================] - 2s 6ms/step - loss: 0.0296\n",
      "Epoch 6/100\n",
      "430/430 [==============================] - 3s 6ms/step - loss: 0.0296\n",
      "Epoch 7/100\n",
      "430/430 [==============================] - 2s 6ms/step - loss: 0.0285\n",
      "Epoch 8/100\n",
      "430/430 [==============================] - 2s 6ms/step - loss: 0.0285\n",
      "Epoch 9/100\n",
      "430/430 [==============================] - 2s 6ms/step - loss: 0.0281\n",
      "Epoch 10/100\n",
      "430/430 [==============================] - 3s 6ms/step - loss: 0.0278\n",
      "Epoch 11/100\n",
      "430/430 [==============================] - 2s 6ms/step - loss: 0.0273\n",
      "Epoch 12/100\n",
      "430/430 [==============================] - 2s 6ms/step - loss: 0.0278\n",
      "Epoch 13/100\n",
      "430/430 [==============================] - 3s 6ms/step - loss: 0.0269\n",
      "Epoch 14/100\n",
      "430/430 [==============================] - 2s 6ms/step - loss: 0.0272\n",
      "Epoch 15/100\n",
      "430/430 [==============================] - 2s 6ms/step - loss: 0.0272\n",
      "Epoch 16/100\n",
      "430/430 [==============================] - 3s 6ms/step - loss: 0.0271\n",
      "Epoch 17/100\n",
      "430/430 [==============================] - 3s 6ms/step - loss: 0.0272\n",
      "Epoch 18/100\n",
      "430/430 [==============================] - 3s 6ms/step - loss: 0.0269\n",
      "Epoch 19/100\n",
      "430/430 [==============================] - 2s 6ms/step - loss: 0.0268\n",
      "Epoch 20/100\n",
      "430/430 [==============================] - 3s 6ms/step - loss: 0.0264\n",
      "Epoch 21/100\n",
      "430/430 [==============================] - 3s 6ms/step - loss: 0.0264\n",
      "Epoch 22/100\n",
      "430/430 [==============================] - 3s 6ms/step - loss: 0.0266\n",
      "Epoch 23/100\n",
      "430/430 [==============================] - 3s 6ms/step - loss: 0.0260\n",
      "Epoch 24/100\n",
      "430/430 [==============================] - 2s 6ms/step - loss: 0.0256\n",
      "Epoch 25/100\n",
      "430/430 [==============================] - 3s 6ms/step - loss: 0.0261\n",
      "Epoch 26/100\n",
      "430/430 [==============================] - 3s 6ms/step - loss: 0.0255\n",
      "Epoch 27/100\n",
      "430/430 [==============================] - 3s 6ms/step - loss: 0.0257\n",
      "Epoch 28/100\n",
      "430/430 [==============================] - 3s 6ms/step - loss: 0.0252\n",
      "Epoch 29/100\n",
      "430/430 [==============================] - 3s 6ms/step - loss: 0.0249\n",
      "Epoch 30/100\n",
      "430/430 [==============================] - 2s 6ms/step - loss: 0.0248\n",
      "Epoch 31/100\n",
      "430/430 [==============================] - 3s 6ms/step - loss: 0.0243\n",
      "Epoch 32/100\n",
      "430/430 [==============================] - 2s 6ms/step - loss: 0.0249\n",
      "Epoch 33/100\n",
      "430/430 [==============================] - 3s 6ms/step - loss: 0.0248\n",
      "Epoch 34/100\n",
      "430/430 [==============================] - 3s 6ms/step - loss: 0.0243\n",
      "Epoch 35/100\n",
      "430/430 [==============================] - 3s 6ms/step - loss: 0.0250\n",
      "Epoch 36/100\n",
      "430/430 [==============================] - 3s 6ms/step - loss: 0.0241\n",
      "Epoch 37/100\n",
      "430/430 [==============================] - 3s 6ms/step - loss: 0.0238\n",
      "Epoch 38/100\n",
      "430/430 [==============================] - 3s 6ms/step - loss: 0.0235\n",
      "Epoch 39/100\n",
      "430/430 [==============================] - 3s 6ms/step - loss: 0.0237\n",
      "Epoch 40/100\n",
      "430/430 [==============================] - 3s 6ms/step - loss: 0.0236\n",
      "Epoch 41/100\n",
      "430/430 [==============================] - 2s 6ms/step - loss: 0.0234\n",
      "Epoch 42/100\n",
      "430/430 [==============================] - 3s 6ms/step - loss: 0.0234\n",
      "Epoch 43/100\n",
      "430/430 [==============================] - 3s 6ms/step - loss: 0.0239\n",
      "Epoch 44/100\n",
      "430/430 [==============================] - 3s 6ms/step - loss: 0.0237\n",
      "Epoch 45/100\n",
      "430/430 [==============================] - 3s 6ms/step - loss: 0.0234\n",
      "Epoch 46/100\n",
      "430/430 [==============================] - 3s 6ms/step - loss: 0.0236\n",
      "Epoch 47/100\n",
      "430/430 [==============================] - 3s 6ms/step - loss: 0.0233\n",
      "Epoch 48/100\n",
      "430/430 [==============================] - 3s 6ms/step - loss: 0.0231\n",
      "Epoch 49/100\n",
      "430/430 [==============================] - 3s 6ms/step - loss: 0.0229\n",
      "Epoch 50/100\n",
      "430/430 [==============================] - 3s 6ms/step - loss: 0.0234\n",
      "Epoch 51/100\n",
      "430/430 [==============================] - 2s 6ms/step - loss: 0.0231\n",
      "Epoch 52/100\n",
      "430/430 [==============================] - 2s 6ms/step - loss: 0.0229\n",
      "Epoch 53/100\n",
      "430/430 [==============================] - 3s 6ms/step - loss: 0.0231\n",
      "Epoch 54/100\n",
      "430/430 [==============================] - 2s 6ms/step - loss: 0.0232\n",
      "Epoch 55/100\n",
      "430/430 [==============================] - 3s 6ms/step - loss: 0.0230\n",
      "Epoch 56/100\n",
      "430/430 [==============================] - 3s 6ms/step - loss: 0.0231\n",
      "Epoch 57/100\n",
      "430/430 [==============================] - 2s 6ms/step - loss: 0.0230\n",
      "Epoch 58/100\n",
      "430/430 [==============================] - 3s 6ms/step - loss: 0.0229\n",
      "Epoch 59/100\n",
      "430/430 [==============================] - 3s 6ms/step - loss: 0.0229\n",
      "Epoch 60/100\n",
      "430/430 [==============================] - 3s 6ms/step - loss: 0.0228\n",
      "Epoch 61/100\n",
      "430/430 [==============================] - 3s 6ms/step - loss: 0.0226\n",
      "Epoch 62/100\n",
      "430/430 [==============================] - 3s 6ms/step - loss: 0.0225\n",
      "Epoch 63/100\n",
      "430/430 [==============================] - 2s 6ms/step - loss: 0.0225\n",
      "Epoch 64/100\n",
      "430/430 [==============================] - 3s 6ms/step - loss: 0.0226\n",
      "Epoch 65/100\n",
      "430/430 [==============================] - 3s 6ms/step - loss: 0.0226\n",
      "Epoch 66/100\n",
      "430/430 [==============================] - 2s 6ms/step - loss: 0.0229\n",
      "Epoch 67/100\n",
      "430/430 [==============================] - 2s 6ms/step - loss: 0.0227\n",
      "Epoch 68/100\n",
      "430/430 [==============================] - 3s 6ms/step - loss: 0.0227\n",
      "Epoch 69/100\n",
      "430/430 [==============================] - 3s 6ms/step - loss: 0.0226\n",
      "Epoch 70/100\n",
      "430/430 [==============================] - 3s 6ms/step - loss: 0.0229\n",
      "Epoch 71/100\n",
      "430/430 [==============================] - 2s 6ms/step - loss: 0.0223\n",
      "Epoch 72/100\n",
      "430/430 [==============================] - 2s 6ms/step - loss: 0.0224\n",
      "Epoch 73/100\n",
      "430/430 [==============================] - 3s 6ms/step - loss: 0.0225\n",
      "Epoch 74/100\n",
      "430/430 [==============================] - 2s 6ms/step - loss: 0.0226\n",
      "Epoch 75/100\n",
      "430/430 [==============================] - 3s 6ms/step - loss: 0.0227\n",
      "Epoch 76/100\n",
      "430/430 [==============================] - 3s 6ms/step - loss: 0.0223\n",
      "Epoch 77/100\n",
      "430/430 [==============================] - 2s 6ms/step - loss: 0.0226\n",
      "Epoch 78/100\n",
      "430/430 [==============================] - 3s 6ms/step - loss: 0.0227\n",
      "Epoch 79/100\n",
      "430/430 [==============================] - 2s 6ms/step - loss: 0.0223\n",
      "Epoch 80/100\n",
      "430/430 [==============================] - 2s 6ms/step - loss: 0.0226\n",
      "Epoch 81/100\n",
      "430/430 [==============================] - 3s 6ms/step - loss: 0.0220\n",
      "Epoch 82/100\n",
      "430/430 [==============================] - 3s 6ms/step - loss: 0.0222\n",
      "Epoch 83/100\n",
      "430/430 [==============================] - 3s 6ms/step - loss: 0.0226\n",
      "Epoch 84/100\n",
      "430/430 [==============================] - 3s 6ms/step - loss: 0.0222\n",
      "Epoch 85/100\n",
      "430/430 [==============================] - 3s 6ms/step - loss: 0.0226\n",
      "Epoch 86/100\n",
      "430/430 [==============================] - 3s 6ms/step - loss: 0.0225\n",
      "Epoch 87/100\n",
      "430/430 [==============================] - 3s 6ms/step - loss: 0.0225\n",
      "Epoch 88/100\n",
      "430/430 [==============================] - 2s 6ms/step - loss: 0.0218\n",
      "Epoch 89/100\n",
      "430/430 [==============================] - 3s 7ms/step - loss: 0.0224\n",
      "Epoch 90/100\n",
      "430/430 [==============================] - 2s 6ms/step - loss: 0.0222\n",
      "Epoch 91/100\n",
      "430/430 [==============================] - 3s 6ms/step - loss: 0.0221\n",
      "Epoch 92/100\n",
      "430/430 [==============================] - 2s 6ms/step - loss: 0.0219\n",
      "Epoch 93/100\n",
      "430/430 [==============================] - 2s 6ms/step - loss: 0.0225\n",
      "Epoch 94/100\n",
      "430/430 [==============================] - 3s 6ms/step - loss: 0.0225\n",
      "Epoch 95/100\n",
      "430/430 [==============================] - 2s 6ms/step - loss: 0.0219\n",
      "Epoch 96/100\n",
      "430/430 [==============================] - 2s 6ms/step - loss: 0.0221\n",
      "Epoch 97/100\n",
      "430/430 [==============================] - 3s 6ms/step - loss: 0.0224\n",
      "Epoch 98/100\n",
      "430/430 [==============================] - 2s 6ms/step - loss: 0.0218\n",
      "Epoch 99/100\n",
      "430/430 [==============================] - 3s 6ms/step - loss: 0.0221\n",
      "Epoch 100/100\n",
      "430/430 [==============================] - 2s 6ms/step - loss: 0.0220\n",
      "convergence time: 258.1181881427765\n"
     ]
    }
   ],
   "source": [
    "import time\n",
    "start= time.time()\n",
    "history = model.fit(X_train1, Y_train, epochs=100, \n",
    "                    verbose=1, batch_size=32)\n",
    "end= time.time()\n",
    "convergence_time= end-start\n",
    "print(\"convergence time:\",convergence_time)"
   ]
  },
  {
   "cell_type": "code",
   "execution_count": 11,
   "metadata": {},
   "outputs": [
    {
     "name": "stdout",
     "output_type": "stream",
     "text": [
      "108/108 [==============================] - 1s 3ms/step\n",
      "inference time: 1.0563054084777832\n"
     ]
    }
   ],
   "source": [
    "import time\n",
    "start= time.time()\n",
    "prediction_lstm=model.predict(X_test1)\n",
    "end= time.time()\n",
    "continential= end -start\n",
    "print(\"inference time:\",continential)"
   ]
  },
  {
   "cell_type": "code",
   "execution_count": 12,
   "metadata": {},
   "outputs": [
    {
     "name": "stdout",
     "output_type": "stream",
     "text": [
      "(3438, 1)\n",
      "(3438,)\n",
      "Maximum: 36.855534\n",
      "Minimum: -0.65797234\n",
      "Mean: 12.138851\n",
      "Normalized Root Mean Square Error is: 1.2773736155769029\n",
      "Root Mean Square Error: 0.4791876027361423\n",
      "Mean Square Error: 0.22962075861601094\n",
      "Mean Absolute Error: 0.37346299170095665\n"
     ]
    }
   ],
   "source": [
    "prediction_lstm\n",
    "print(prediction_lstm.shape)\n",
    "pred=prediction_lstm.flatten()\n",
    "print(pred.shape)\n",
    "prediction = pred.reshape(pred.shape[0], 1)\n",
    "prediction= s2.inverse_transform(prediction)\n",
    "Actual2= s2.inverse_transform(Ytest)\n",
    "x= prediction\n",
    "z= Actual2\n",
    "from sklearn.metrics import mean_squared_error\n",
    "import math\n",
    "\n",
    " \n",
    "MSE = mean_squared_error(z,x)\n",
    " \n",
    "RMSE = math.sqrt(MSE)\n",
    "from sklearn.metrics import mean_absolute_error\n",
    "MAE=mean_absolute_error(z,x)\n",
    "MAE\n",
    "\n",
    "max = x.max()\n",
    "min = x.min()\n",
    "mean = x.mean()\n",
    "print(\"Maximum:\",max)\n",
    "print('Minimum:',min)\n",
    "print(\"Mean:\",mean)\n",
    "NRMSE= (RMSE/(max-min))*100\n",
    "print('Normalized Root Mean Square Error is:',NRMSE)\n",
    "print(\"Root Mean Square Error:\",RMSE)\n",
    "print(\"Mean Square Error:\", MSE)\n",
    "print(\"Mean Absolute Error:\",MAE)\n",
    "\n",
    "\n",
    "Calculated = pd.DataFrame(x, columns = ['Prediction'])\n",
    "Actual = pd.DataFrame(z, columns = ['Actual'])\n",
    "combined_df = pd.concat([Calculated, Actual], axis=1)\n",
    "\n",
    "\n"
   ]
  },
  {
   "cell_type": "code",
   "execution_count": 13,
   "metadata": {},
   "outputs": [],
   "source": [
    "combined_df.to_csv(r'C:\\Users\\sunrise\\Desktop\\Wind speed forecasting\\Bruska\\LSTM\\LSTM_output.csv', index=False)"
   ]
  }
 ],
 "metadata": {
  "kernelspec": {
   "display_name": "Python 3",
   "language": "python",
   "name": "python3"
  },
  "language_info": {
   "codemirror_mode": {
    "name": "ipython",
    "version": 3
   },
   "file_extension": ".py",
   "mimetype": "text/x-python",
   "name": "python",
   "nbconvert_exporter": "python",
   "pygments_lexer": "ipython3",
   "version": "3.10.9"
  },
  "orig_nbformat": 4
 },
 "nbformat": 4,
 "nbformat_minor": 2
}
